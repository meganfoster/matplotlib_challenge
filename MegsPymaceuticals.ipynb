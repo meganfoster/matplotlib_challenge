{
 "cells": [
  {
   "cell_type": "markdown",
   "metadata": {},
   "source": [
    "## Observations and Insights\n",
    "#### Add your analysis here\n",
    "\n",
    "---\n",
    "Ramicane and Capomulin have the best results for decreasing tumor volume based on the Summary Statistics.  They were also tested on the largest population sizes.\n",
    "Infubinol had one final tumor volume result that fell in range with the average final tumor volume for mice on the Capomulin and Ramicane treatments.  Unfortunately this result appears to be an outlier, once again pointing towards the better results from the Capomulin and Ramicane treatments.\n",
    "As mouse weight increases on the Capomulin regimen so does the average tumor volume based on the correlation factor of 0.84."
   ]
  },
  {
   "cell_type": "code",
   "execution_count": null,
   "metadata": {},
   "outputs": [],
   "source": [
    "# Dependencies and Setup\n",
    "import matplotlib.pyplot as plt\n",
    "import pandas as pd\n",
    "import scipy.stats as st\n",
    "import numpy as np\n",
    "from scipy.stats import linregress\n",
    "\n",
    "# Study data files\n",
    "mouse_metadata_path = \"data/Mouse_metadata.csv\"\n",
    "study_results_path = \"data/Study_results.csv\"\n",
    "\n",
    "# Read the mouse data and the study results\n",
    "mouse_metadata = pd.read_csv(mouse_metadata_path)\n",
    "study_results = pd.read_csv(study_results_path)\n",
    "\n",
    "# Combine the data into a single dataset\n",
    "mouse_data = pd.merge(study_results, mouse_metadata, on=[\"Mouse ID\", \"Mouse ID\"], how=\"left\")\n",
    "\n",
    "# Display the data table for preview\n",
    "mouse_data.head()"
   ]
  },
  {
   "cell_type": "code",
   "execution_count": null,
   "metadata": {},
   "outputs": [],
   "source": [
    "# Check the number of mice.\n",
    "unique_mice = mouse_data[\"Mouse ID\"].unique()\n",
    "len(unique_mice)"
   ]
  },
  {
   "cell_type": "code",
   "execution_count": null,
   "metadata": {},
   "outputs": [],
   "source": [
    "# Getting the duplicate mice by ID number that shows up for Mouse ID and Timepoint.\n",
    "duplicate_mice_df = mouse_data[mouse_data.duplicated([\"Mouse ID\", \"Timepoint\"], keep=False)]\n",
    "dup_mice = duplicate_mice_df[\"Mouse ID\"].unique()\n",
    "dup_mice"
   ]
  },
  {
   "cell_type": "code",
   "execution_count": null,
   "metadata": {},
   "outputs": [],
   "source": [
    "# Optional: Get all the data for the duplicate mouse ID. \n",
    "dup_mouse_df = mouse_data.loc[mouse_data[\"Mouse ID\"]==dup_mice[0], :]\n",
    "dup_mouse_df"
   ]
  },
  {
   "cell_type": "code",
   "execution_count": null,
   "metadata": {},
   "outputs": [],
   "source": [
    "# Create a clean DataFrame by dropping the duplicate mouse by its ID.\n",
    "clean_mouse_data = mouse_data[mouse_data[\"Mouse ID\"] != dup_mice[0]]"
   ]
  },
  {
   "cell_type": "code",
   "execution_count": null,
   "metadata": {},
   "outputs": [],
   "source": [
    "# Check the number of mice in the clean DataFrame.\n",
    "clean_mice = clean_mouse_data[\"Mouse ID\"].unique()\n",
    "len(clean_mice)"
   ]
  },
  {
   "cell_type": "markdown",
   "metadata": {},
   "source": [
    "## Summary Statistics"
   ]
  },
  {
   "cell_type": "code",
   "execution_count": null,
   "metadata": {},
   "outputs": [],
   "source": [
    "# Generate a summary statistics table of mean, median, variance, standard deviation, and SEM of the tumor volume for each regimen\n",
    "drugs_group = clean_mouse_data.groupby(\"Drug Regimen\")\n",
    "tumor_vol = drugs_group[\"Tumor Volume (mm3)\"]\n",
    "\n",
    "mean_tumor_vol = pd.Series(tumor_vol.mean())\n",
    "med_tumor_vol = pd.Series(tumor_vol.median())\n",
    "tumor_vol_var = pd.Series(tumor_vol.var())\n",
    "tumor_vol_stddev = pd.Series(tumor_vol.std())\n",
    "tumor_vol_stderr = pd.Series(tumor_vol.sem())\n",
    "\n",
    "# Use this straighforward method, create multiple series and put them all in a dataframe at the end.\n",
    "summary_statistics = pd.concat([mean_tumor_vol.rename(\"Mean Tumor Volume\"), \n",
    "                                med_tumor_vol.rename(\"Median Tumor Volume\"),\n",
    "                                tumor_vol_var.rename(\"Tumor Volume Variance\"),\n",
    "                                tumor_vol_stddev.rename(\"Tumor Volume Std. Dev.\"),\n",
    "                                tumor_vol_stderr.rename(\"Tumor Volume Std. Err.\")], axis=1)\n",
    "summary_statistics"
   ]
  },
  {
   "cell_type": "code",
   "execution_count": null,
   "metadata": {},
   "outputs": [],
   "source": [
    "# Generate a summary statistics table of mean, median, variance, standard deviation, and SEM of the tumor volume for each regimen\n",
    "tumor_data = clean_mouse_data[[\"Drug Regimen\", \"Tumor Volume (mm3)\"]]\n",
    "tumor_data.groupby(\"Drug Regimen\").agg([\"mean\", \"median\", \"var\", \"std\", \"sem\"])"
   ]
  },
  {
   "cell_type": "markdown",
   "metadata": {},
   "source": [
    "## Bar and Pie Charts"
   ]
  },
  {
   "cell_type": "code",
   "execution_count": null,
   "metadata": {},
   "outputs": [],
   "source": [
    "# Generate a bar plot showing the total number of mice for each treatment throughout the course of the study using pandas. \n",
    "# Calculate mice by treatment plan and put in data frame\n",
    "mice_by_treatment = pd.DataFrame(drugs_group[\"Mouse ID\"].count())\n",
    "mice_by_treatment = mice_by_treatment.sort_values([\"Mouse ID\"], ascending=False)\n",
    "\n",
    "# # Use DataFrame.plot() in order to create a bar chart of the data\n",
    "mice_by_treatment.plot(kind=\"bar\", figsize=(6,5), legend = False)\n",
    "plt.ylabel(\"Number of Data Points\")\n",
    "plt.tight_layout()"
   ]
  },
  {
   "cell_type": "code",
   "execution_count": null,
   "metadata": {},
   "outputs": [],
   "source": [
    "# Generate a bar plot showing the total number of mice for each treatment throughout the course of the study using pyplot.\n",
    "# Set x axis and tick locations\n",
    "x_axis = np.arange(len(mice_by_treatment))\n",
    "tick_locations = [value for value in x_axis]\n",
    "drugs = mice_by_treatment.index\n",
    "\n",
    "# Set fig size\n",
    "plt.figure(figsize=(6,5))\n",
    "\n",
    "# Set data\n",
    "plt.bar(x_axis, mice_by_treatment[\"Mouse ID\"], color='blue', alpha=0.5, align=\"center\")\n",
    "plt.xticks(tick_locations, drugs, rotation=\"vertical\")\n",
    "\n",
    "# Set x and y limits\n",
    "plt.xlim(-0.75, len(x_axis))\n",
    "plt.ylim(0, max(mice_by_treatment[\"Mouse ID\"])+10)\n",
    "\n",
    "# Set axis labels\n",
    "plt.xlabel(\"Drug Regimen\")\n",
    "plt.ylabel(\"Number of Data Points\")\n",
    "\n",
    "# Show the graph\n",
    "# tigh_layout() adjusts the visual of our graph making it easier to see\n",
    "plt.tight_layout()\n",
    "plt.show()"
   ]
  },
  {
   "cell_type": "code",
   "execution_count": null,
   "metadata": {},
   "outputs": [],
   "source": [
    "# Generate a pie plot showing the distribution of female versus male mice using pandas\n",
    "# Sort mice by gender into data frame\n",
    "gender_group = clean_mouse_data.groupby(\"Sex\")\n",
    "mice_by_gender = pd.DataFrame(gender_group[\"Mouse ID\"].count())\n",
    "mice_by_gender = mice_by_gender.sort_values([\"Mouse ID\"], ascending=False)\n",
    "\n",
    "# Create pie plot \n",
    "mice_by_gender.plot(kind=\"pie\", figsize=(4, 4), autopct='%1.1f%%', subplots = True, legend = False)\n",
    "plt.ylabel(\"Sex\")\n",
    "plt.tight_layout()"
   ]
  },
  {
   "cell_type": "code",
   "execution_count": null,
   "metadata": {},
   "outputs": [],
   "source": [
    "# Generate a pie plot showing the distribution of female versus male mice using pyplot\n",
    "# Labels for the sections of our pie chart\n",
    "labels = mice_by_gender.index\n",
    "\n",
    "# The values of each section of the pie chart\n",
    "sizes = mice_by_gender[\"Mouse ID\"]\n",
    "\n",
    "# The colors of each section of the pie chart\n",
    "colors = [\"blue\", \"orange\"]\n",
    "\n",
    "# # Tells matplotlib to seperate the \"Humans\" section from the others\n",
    "# explode = (0.1, 0, 0, 0)\n",
    "\n",
    "# Creates the pie chart based upon the values above\n",
    "# Automatically finds the percentages of each part of the pie chart\n",
    "plt.pie(sizes, labels=labels, colors=colors,\n",
    "        autopct=\"%1.1f%%\", shadow=False, startangle=0)\n",
    "\n",
    "# Tells matplotlib that we want a pie chart with equal axes\n",
    "plt.axis(\"equal\")\n",
    "plt.ylabel(\"Sex\")\n",
    "plt.show()"
   ]
  },
  {
   "cell_type": "markdown",
   "metadata": {},
   "source": [
    "## Quartiles, Outliers and Boxplots"
   ]
  },
  {
   "cell_type": "code",
   "execution_count": null,
   "metadata": {},
   "outputs": [],
   "source": [
    "# Calculate the final tumor volume of each mouse across each of the treatment regimens: \n",
    "# Start by getting the last (greatest) timepoint for each mouse\n",
    "mice_ID_group = clean_mouse_data.groupby(\"Mouse ID\")\n",
    "greatest_timepoint = pd.DataFrame(mice_ID_group[\"Timepoint\"].max())\n",
    "\n",
    "# Merge this group df with the original dataframe to get the tumor volume at the last timepoint\n",
    "last_tumor_data = pd.merge(greatest_timepoint, clean_mouse_data, how=\"left\", left_on=[\"Mouse ID\", \"Timepoint\"], \n",
    "                                                                     right_on=[\"Mouse ID\", \"Timepoint\"])\n",
    "last_tumor_data"
   ]
  },
  {
   "cell_type": "code",
   "execution_count": null,
   "metadata": {},
   "outputs": [],
   "source": [
    "# Put 4 treatment names into a list for use with a for loop (and later for plot labels)\n",
    "treatment_list = [\"Capomulin\", \"Ramicane\", \"Infubinol\", \"Ceftamin\"]\n",
    "\n",
    "# Create a empty list to fill with tumor vol data (for plotting) (hint: each element of the list will be series)\n",
    "tumor_vol_list = []\n",
    "\n",
    "# For each treatment in the list, calculate the IQR and quantitatively \n",
    "# determine if there are any potential outliers. \n",
    "for drug in treatment_list:\n",
    "    \n",
    "    # Locate the rows which contain mice on each drug and get the tumor volumes\n",
    "    treatment_tumors = last_tumor_data.loc[last_tumor_data[\"Drug Regimen\"]==drug, \"Tumor Volume (mm3)\"]\n",
    "    # add subset to tumor volume data list\n",
    "    tumor_vol_list.append(treatment_tumors)\n",
    "    # Determine outliers using upper and lower bounds\n",
    "    quartiles = treatment_tumors.quantile([.25,.5,.75])\n",
    "    lowerq = quartiles[0.25]\n",
    "    upperq = quartiles[0.75]\n",
    "    iqr = upperq-lowerq\n",
    "    lower_bound = lowerq - (1.5*iqr)\n",
    "    upper_bound = upperq + (1.5*iqr)\n",
    "    outliers = treatment_tumors.loc[(treatment_tumors < lower_bound) | \n",
    "                                    (treatment_tumors > upper_bound)]\n",
    "    print(f\"{drug}'s potential outliers: {outliers}.\")"
   ]
  },
  {
   "cell_type": "code",
   "execution_count": null,
   "metadata": {},
   "outputs": [],
   "source": [
    "# Generate a box plot of the final tumor volume of each mouse across four regimens of interest\n",
    "fig1, ax1 = plt.subplots()\n",
    "ax1.set_ylabel('Final Tumor Volume (mm3)')\n",
    "flierprops = dict(marker='o', markerfacecolor='r', markersize=12,\n",
    "                  linestyle='none', markeredgecolor='black')\n",
    "ax1.boxplot(tumor_vol_list, flierprops=flierprops)\n",
    "x_axis = np.arange(len(treatment_list))\n",
    "tick_locations = [value +1 for value in x_axis]\n",
    "plt.xticks(tick_locations, treatment_list)\n",
    "plt.show()"
   ]
  },
  {
   "cell_type": "markdown",
   "metadata": {},
   "source": [
    "## Line and Scatter Plots"
   ]
  },
  {
   "cell_type": "code",
   "execution_count": null,
   "metadata": {},
   "outputs": [],
   "source": [
    "# Generate a line plot of time point versus tumor volume for a mouse treated with Capomulin\n",
    "# Identify capo_mouse ID, retrieve mouse \n",
    "capo_mice_df = clean_mouse_data.loc[clean_mouse_data[\"Drug Regimen\"]==\"Capomulin\"]\n",
    "capo_mice = capo_mice_df[\"Mouse ID\"]\n",
    "capo_tumor_df = capo_mice_df.loc[capo_mice_df[\"Mouse ID\"]==capo_mice[0], :]\n",
    "x_axis = np.arange(0, 45, 10)\n",
    "capo_tumor_vol = capo_tumor_df[\"Tumor Volume (mm3)\"]\n",
    "capo_time = capo_tumor_df[\"Timepoint\"]\n",
    "plt.plot(capo_time, capo_tumor_vol) \n",
    "plt.title(\"Capomulin treatment of mouse b128\")\n",
    "plt.xlabel(\"Timepoint (days)\")\n",
    "plt.ylabel(\"Tumor Volume (mm3)\")\n",
    "plt.show()"
   ]
  },
  {
   "cell_type": "code",
   "execution_count": null,
   "metadata": {},
   "outputs": [],
   "source": [
    "# Generate a scatter plot of mouse weight versus average tumor volume for the Capomulin regimen\n",
    "capo_mice_IDs = capo_mice_df.groupby(\"Mouse ID\")\n",
    "x_values = capo_mice_IDs[\"Weight (g)\"].mean()\n",
    "y_values = capo_mice_IDs[\"Tumor Volume (mm3)\"].mean()\n",
    "plt.scatter(x_values, y_values)\n",
    "plt.xlabel('Weight (g)')\n",
    "plt.ylabel('Tumor Volume (mm3)')\n",
    "plt.show()"
   ]
  },
  {
   "cell_type": "markdown",
   "metadata": {},
   "source": [
    "## Correlation and Regression"
   ]
  },
  {
   "cell_type": "code",
   "execution_count": null,
   "metadata": {},
   "outputs": [],
   "source": [
    "# Calculate the correlation coefficient and linear regression model \n",
    "# for mouse weight and average tumor volume for the Capomulin regimen\n",
    "(slope, intercept, rvalue, pvalue, stderr) = linregress(x_values, y_values)\n",
    "regress_values = x_values * slope + intercept\n",
    "plt.scatter(x_values,y_values)\n",
    "plt.plot(x_values,regress_values,\"r-\")\n",
    "plt.xlabel('Weight (g)')\n",
    "plt.ylabel('Tumor Volume (mm3)')\n",
    "correlation = st.pearsonr(x_values, y_values)\n",
    "print(f\"The correlation between mouse weight and the average tumor volume is {round(correlation[0],2)}\")\n",
    "plt.show()"
   ]
  },
  {
   "cell_type": "code",
   "execution_count": null,
   "metadata": {},
   "outputs": [],
   "source": []
  }
 ],
 "metadata": {
  "anaconda-cloud": {},
  "kernelspec": {
   "display_name": "Python 3",
   "language": "python",
   "name": "python3"
  },
  "language_info": {
   "codemirror_mode": {
    "name": "ipython",
    "version": 3
   },
   "file_extension": ".py",
   "mimetype": "text/x-python",
   "name": "python",
   "nbconvert_exporter": "python",
   "pygments_lexer": "ipython3",
   "version": "3.7.6"
  }
 },
 "nbformat": 4,
 "nbformat_minor": 2
}
